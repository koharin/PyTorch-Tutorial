{
  "nbformat": 4,
  "nbformat_minor": 0,
  "metadata": {
    "colab": {
      "provenance": [],
      "authorship_tag": "ABX9TyMmSHItbDiWXHxIMoS3fPFY",
      "include_colab_link": true
    },
    "kernelspec": {
      "name": "python3",
      "display_name": "Python 3"
    },
    "language_info": {
      "name": "python"
    }
  },
  "cells": [
    {
      "cell_type": "markdown",
      "metadata": {
        "id": "view-in-github",
        "colab_type": "text"
      },
      "source": [
        "<a href=\"https://colab.research.google.com/github/koharin/PyTorch-Tutorial/blob/main/Pytorch_1_TENSOR.ipynb\" target=\"_parent\"><img src=\"https://colab.research.google.com/assets/colab-badge.svg\" alt=\"Open In Colab\"/></a>"
      ]
    },
    {
      "cell_type": "markdown",
      "source": [
        "# 텐서 (TENSOR)\n",
        "- 텐서(tensor): 배열(array)이나 행렬(matrix)과 유사한 특수한 자료구조.\n",
        "- PyTorch에서는 텐서를 사용해서 모델의 입력(input)과 출력(output), 모델의 매개변수들을 부호화(encode)함.\n",
        "- GPU나 다른 하드웨어 가속기에서 실행 가능.\n",
        "- 텐서와 Numpy 배열은 동일한 내부(underly) 메모리를 공유할 수 있어 데이터를 복사할 필요가 없음.\n",
        "- 자동 미분(automatic differentiation)에 최적화됨."
      ],
      "metadata": {
        "id": "VvIYo3wnyoqM"
      }
    },
    {
      "cell_type": "markdown",
      "source": [
        "## Dependency 추가"
      ],
      "metadata": {
        "id": "MBOVKYmGyL4t"
      }
    },
    {
      "cell_type": "code",
      "execution_count": null,
      "metadata": {
        "id": "Up2AfvGOxufk"
      },
      "outputs": [],
      "source": [
        "import torch\n",
        "import numpy as np"
      ]
    },
    {
      "cell_type": "markdown",
      "source": [
        "## 텐서(tensor) 초기화"
      ],
      "metadata": {
        "id": "sNoHxtCKyanE"
      }
    },
    {
      "cell_type": "markdown",
      "source": [
        "### 1. 데이터로부터 직접(directly) 생성하기"
      ],
      "metadata": {
        "id": "LmdDutityjHS"
      }
    },
    {
      "cell_type": "code",
      "source": [
        "data = [[1,2], [3,4]]\n",
        "x_data = torch.tensor(data)\n",
        "print(x_data)"
      ],
      "metadata": {
        "colab": {
          "base_uri": "https://localhost:8080/"
        },
        "id": "SdI9RcKzyKoB",
        "outputId": "886ad88c-6cff-477c-a9ba-9623e7cdd068"
      },
      "execution_count": null,
      "outputs": [
        {
          "output_type": "stream",
          "name": "stdout",
          "text": [
            "tensor([[1, 2],\n",
            "        [3, 4]])\n"
          ]
        }
      ]
    },
    {
      "cell_type": "markdown",
      "source": [
        "- 데이터로부터 직접 텐서를 생성하는 방법.\n",
        "- 데이터의 자료형(data type)은 자동으로 유추함."
      ],
      "metadata": {
        "id": "liWC0UOFzbab"
      }
    },
    {
      "cell_type": "markdown",
      "source": [
        "### 2. Numpy 배열로부터 생성하기"
      ],
      "metadata": {
        "id": "f4PdbXWfzh8B"
      }
    },
    {
      "cell_type": "code",
      "source": [
        "np_array = np.array(data)\n",
        "x_np = torch.from_numpy(np_array)\n",
        "print(x_np)"
      ],
      "metadata": {
        "colab": {
          "base_uri": "https://localhost:8080/"
        },
        "id": "Z6Mesjrjzla7",
        "outputId": "c153a5d9-06e7-477d-bb74-21dcea05117a"
      },
      "execution_count": null,
      "outputs": [
        {
          "output_type": "stream",
          "name": "stdout",
          "text": [
            "tensor([[1, 2],\n",
            "        [3, 4]])\n"
          ]
        }
      ]
    },
    {
      "cell_type": "markdown",
      "source": [
        "- Numpy 배열로 텐서를 생성하는 방법.\n",
        "- 텐서로 Numpy 변환도 가능? (t가 텐서면   t.numpy()₩는 Numpy 배열로 변환된 것)"
      ],
      "metadata": {
        "id": "kZ5BYEOiz4Ru"
      }
    },
    {
      "cell_type": "markdown",
      "source": [
        "### 3. 다른 텐서로부터 생성하기"
      ],
      "metadata": {
        "id": "6ukoPNtu0M10"
      }
    },
    {
      "cell_type": "code",
      "source": [
        "x_ones = torch.ones_like(x_data) # x_data 속성 유지\n",
        "print(f\"Ones Tensor: {x_ones}\")\n",
        "\n",
        "x_rand = torch.rand_like(x_data, dtype=torch.float) # x_data 속성 덮어씀\n",
        "print(f\"Random Tensor: {x_rand}\")"
      ],
      "metadata": {
        "colab": {
          "base_uri": "https://localhost:8080/"
        },
        "id": "EJ1JDD0p0YuX",
        "outputId": "4c291b3f-b7e5-454e-98b6-dbea402c6b00"
      },
      "execution_count": null,
      "outputs": [
        {
          "output_type": "stream",
          "name": "stdout",
          "text": [
            "Ones Tensor: tensor([[1, 1],\n",
            "        [1, 1]])\n",
            "Random Tensor: tensor([[0.5537, 0.7568],\n",
            "        [0.8950, 0.5985]])\n"
          ]
        }
      ]
    },
    {
      "cell_type": "markdown",
      "source": [
        "- 명시적으로 재정의(override)하지 않는 한, 인자로 준 텐서의 속성(모양(shape), 자료형(data type)) 유지함."
      ],
      "metadata": {
        "id": "UMNBhKIJ2nbw"
      }
    },
    {
      "cell_type": "markdown",
      "source": [
        "### 4. 무작위(random) 또는 상수(constant) 값 사용하기"
      ],
      "metadata": {
        "id": "tR-17Tr82h5l"
      }
    },
    {
      "cell_type": "code",
      "source": [
        "shape = (2,3,)\n",
        "rand_tensor = torch.rand(shape)\n",
        "ones_tensor = torch.ones(shape)\n",
        "zeros_tensor = torch.zeros(shape)\n",
        "\n",
        "print(f\"Random Tensor: {rand_tensor}\")\n",
        "print(f\"Ones Tensor: {ones_tensor}\")\n",
        "print(f\"Zeros Tensor: {zeros_tensor}\")"
      ],
      "metadata": {
        "colab": {
          "base_uri": "https://localhost:8080/"
        },
        "id": "AZFslYXA2l8U",
        "outputId": "1cf10c55-f2ff-4843-e15e-24eae647c741"
      },
      "execution_count": null,
      "outputs": [
        {
          "output_type": "stream",
          "name": "stdout",
          "text": [
            "Random Tensor: tensor([[0.6368, 0.1620, 0.9743],\n",
            "        [0.3274, 0.8058, 0.1275]])\n",
            "Ones Tensor: tensor([[1., 1., 1.],\n",
            "        [1., 1., 1.]])\n",
            "Zeros Tensor: tensor([[0., 0., 0.],\n",
            "        [0., 0., 0.]])\n"
          ]
        }
      ]
    },
    {
      "cell_type": "markdown",
      "source": [
        "- `shape`: 텐서의 차원(dimension) 나타내는 튜플(tuple)로, 함수들에서의 출력 텐서의 차원을 결정함"
      ],
      "metadata": {
        "id": "Ut79GcaE3IQN"
      }
    },
    {
      "cell_type": "markdown",
      "source": [
        "## 텐서의 속성(Attribute)"
      ],
      "metadata": {
        "id": "0Zgv1bYjBc8j"
      }
    },
    {
      "cell_type": "code",
      "source": [
        "tensor = torch.rand(3,4)\n",
        "\n",
        "print(f\"Shape of tensor: {tensor.shape}\")\n",
        "print(f\"Datatype of tensor: {tensor.dtype}\")\n",
        "print(f\"Device tensor is stored on: {tensor.device}\")"
      ],
      "metadata": {
        "colab": {
          "base_uri": "https://localhost:8080/"
        },
        "id": "EF6-a0NeBhhM",
        "outputId": "c3ff4a9d-7a7e-4fd6-ccbd-0eccca7bcd18"
      },
      "execution_count": null,
      "outputs": [
        {
          "output_type": "stream",
          "name": "stdout",
          "text": [
            "Shape of tensor: torch.Size([3, 4])\n",
            "Datatype of tensor: torch.float32\n",
            "Device tensor is stored on: cpu\n"
          ]
        }
      ]
    },
    {
      "cell_type": "markdown",
      "source": [
        "- `shape`: 텐서의 모양(shape)\n",
        "- `dtype`: 자료형(data type)\n",
        "- `device`: 텐서가 어느 장치에 저장되는지"
      ],
      "metadata": {
        "id": "FXhcjWG6Bxx_"
      }
    },
    {
      "cell_type": "markdown",
      "source": [
        "## 텐서 연산(Operation)"
      ],
      "metadata": {
        "id": "_kPuK_ncCDBB"
      }
    },
    {
      "cell_type": "markdown",
      "source": [
        "### 텐서 이동"
      ],
      "metadata": {
        "id": "PknGwE3_CMeF"
      }
    },
    {
      "cell_type": "code",
      "source": [
        "print(f\"Device tensor is stored on: {tensor.device}\")\n",
        "\n",
        "# GPU가 존재하면, 텐서를 GPU로 이동\n",
        "if torch.cuda.is_available():\n",
        "  tensor = tensor.to(\"cuda\")\n",
        "  print(f\"Device tensor is stored on: {tensor.device}\")"
      ],
      "metadata": {
        "colab": {
          "base_uri": "https://localhost:8080/"
        },
        "id": "iyO5mVvtCFaK",
        "outputId": "613a3773-8832-40e4-c511-0a3b2f4c9dd0"
      },
      "execution_count": null,
      "outputs": [
        {
          "output_type": "stream",
          "name": "stdout",
          "text": [
            "Device tensor is stored on: cpu\n"
          ]
        }
      ]
    },
    {
      "cell_type": "markdown",
      "source": [
        "- 디폴트로 텐서는 CPU에 저장되는데, `.to` 메소드를 사용하여 GPU로 텐서를 명시적으로 이동 가능.\n",
        "- 그러나, 장치 간 텐서 복사하는 것은 시간과 비용이 많이든다."
      ],
      "metadata": {
        "id": "zarkSbr7CQu9"
      }
    },
    {
      "cell_type": "markdown",
      "source": [
        "### Numpy식의 표준 인덱싱과 슬라이싱"
      ],
      "metadata": {
        "id": "6Y8zK0_6EGVg"
      }
    },
    {
      "cell_type": "code",
      "source": [
        "tensor = torch.ones(4,4) # 4 x 4 shape의 1로만 구성된 텐서 생성\n",
        "print(f\"First row: {tensor[0]}\")\n",
        "print(f\"First column: {tensor[:,0]}\")\n",
        "print(f\"Last column: {tensor[...,-1]}\")\n",
        "\n",
        "tensor[:,1] = 0 # Second column을 모두 0로 설정\n",
        "print(tensor)"
      ],
      "metadata": {
        "colab": {
          "base_uri": "https://localhost:8080/"
        },
        "id": "nZ0cWQwfELuK",
        "outputId": "f980ac54-d6a5-486f-a4ae-e0c2d7cca03c"
      },
      "execution_count": 10,
      "outputs": [
        {
          "output_type": "stream",
          "name": "stdout",
          "text": [
            "First row: tensor([1., 1., 1., 1.])\n",
            "First column: tensor([1., 1., 1., 1.])\n",
            "Last column: tensor([1., 1., 1., 1.])\n",
            "tensor([[1., 0., 1., 1.],\n",
            "        [1., 0., 1., 1.],\n",
            "        [1., 0., 1., 1.],\n",
            "        [1., 0., 1., 1.]])\n"
          ]
        }
      ]
    },
    {
      "cell_type": "markdown",
      "source": [
        "### 텐서 합치기"
      ],
      "metadata": {
        "id": "BEKPcFSiE6Ft"
      }
    },
    {
      "cell_type": "code",
      "source": [
        "t1 = torch.cat([tensor, tensor, tensor], dim=1)\n",
        "\n",
        "print(t1)"
      ],
      "metadata": {
        "colab": {
          "base_uri": "https://localhost:8080/"
        },
        "id": "76BzU7mCE8dZ",
        "outputId": "fe0f5140-a901-46a4-c874-7404cf35f6fc"
      },
      "execution_count": 11,
      "outputs": [
        {
          "output_type": "stream",
          "name": "stdout",
          "text": [
            "tensor([[1., 0., 1., 1., 1., 0., 1., 1., 1., 0., 1., 1.],\n",
            "        [1., 0., 1., 1., 1., 0., 1., 1., 1., 0., 1., 1.],\n",
            "        [1., 0., 1., 1., 1., 0., 1., 1., 1., 0., 1., 1.],\n",
            "        [1., 0., 1., 1., 1., 0., 1., 1., 1., 0., 1., 1.]])\n"
          ]
        }
      ]
    },
    {
      "cell_type": "markdown",
      "source": [
        "- `torch.cat`: 주어진 차원에 따라 일련의 텐서 연결."
      ],
      "metadata": {
        "id": "pfBrA9MTFBtl"
      }
    },
    {
      "cell_type": "markdown",
      "source": [
        "### 산술 연산(Arithmetic operations)"
      ],
      "metadata": {
        "id": "15zkABl4FUee"
      }
    },
    {
      "cell_type": "code",
      "source": [
        "# 두 텐서 간 행렬 곱(matrix multiplication) 계산\n",
        "# `tensor.T`는 텐서의 전치(transpose)를 반환\n",
        "y1 = tensor @ tensor.T\n",
        "y2 = tensor.matmul(tensor.T)\n",
        "\n",
        "y3 = torch.rand_like(y1)\n",
        "torch.matmul(tensor, tensor.T, out=y3)\n",
        "\n",
        "# 요소별 곱(element-wise product) 계산\n",
        "z1 = tensor * tensor\n",
        "z2 = tensor.mul(tensor)\n",
        "\n",
        "z3 = torch.rand_like(tensor)\n",
        "torch.mul(tensor, tensor, out=z3)"
      ],
      "metadata": {
        "colab": {
          "base_uri": "https://localhost:8080/"
        },
        "id": "VEuZywFSFZCI",
        "outputId": "e4fde908-2e5c-4f5d-8bd0-ace0491180d1"
      },
      "execution_count": 12,
      "outputs": [
        {
          "output_type": "execute_result",
          "data": {
            "text/plain": [
              "tensor([[1., 0., 1., 1.],\n",
              "        [1., 0., 1., 1.],\n",
              "        [1., 0., 1., 1.],\n",
              "        [1., 0., 1., 1.]])"
            ]
          },
          "metadata": {},
          "execution_count": 12
        }
      ]
    },
    {
      "cell_type": "markdown",
      "source": [
        "### 단일-요소(single-element) 텐서"
      ],
      "metadata": {
        "id": "Uj02fYt_GJaD"
      }
    },
    {
      "cell_type": "code",
      "source": [
        "agg = tensor.sum() # 텐서의 모든 값을 하나로 집계(aggregate)\n",
        "agg_item = agg.item() # 요소가 하나인 텐서의 경우, item() 사용하여 숫자값으로 반환\n",
        "print(agg_item, type(agg_item))"
      ],
      "metadata": {
        "colab": {
          "base_uri": "https://localhost:8080/"
        },
        "id": "nM90P3UzGO64",
        "outputId": "0e39a26d-deef-45df-9051-5852bb3f49ef"
      },
      "execution_count": 13,
      "outputs": [
        {
          "output_type": "stream",
          "name": "stdout",
          "text": [
            "12.0 <class 'float'>\n"
          ]
        }
      ]
    },
    {
      "cell_type": "markdown",
      "source": [
        "### 바꿔치기(in-place) 연산"
      ],
      "metadata": {
        "id": "_XOrk2m-Gfuw"
      }
    },
    {
      "cell_type": "code",
      "source": [
        "print(f\"{tensor}\")\n",
        "tensor.add_(5)\n",
        "\n",
        "print(tensor)"
      ],
      "metadata": {
        "colab": {
          "base_uri": "https://localhost:8080/"
        },
        "id": "zAv6683JGiiq",
        "outputId": "668a472a-03ba-472e-ad74-88b9dfa06534"
      },
      "execution_count": 14,
      "outputs": [
        {
          "output_type": "stream",
          "name": "stdout",
          "text": [
            "tensor([[1., 0., 1., 1.],\n",
            "        [1., 0., 1., 1.],\n",
            "        [1., 0., 1., 1.],\n",
            "        [1., 0., 1., 1.]])\n",
            "tensor([[6., 5., 6., 6.],\n",
            "        [6., 5., 6., 6.],\n",
            "        [6., 5., 6., 6.],\n",
            "        [6., 5., 6., 6.]])\n"
          ]
        }
      ]
    },
    {
      "cell_type": "markdown",
      "source": [
        "- 연산 결과를 피연산자(operand)에 저장하는 연산으로, `_` 접미사를 갖음.\n",
        "- `x.copy(y)`나 `x.t_()`는 `x`를 변경\n",
        "- 바꿔치기 연산은 메모리 일부 절약하지만, 기록(history)dㅣ 즉시 삭제되어 도함수(derivative) 계산 문제 발생할 수 있어 사용 권장 X"
      ],
      "metadata": {
        "id": "W2XmItzJGo4o"
      }
    }
  ]
}